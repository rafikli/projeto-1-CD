{
 "cells": [
  {
   "cell_type": "code",
   "execution_count": 2,
   "metadata": {},
   "outputs": [],
   "source": [
    "#importando os módulos necessários\n",
    "\n",
    "import pandas as pd\n",
    "import matplotlib.pyplot as plt\n",
    "import matplotlib\n",
    "import numpy as np\n",
    "from scipy import stats\n",
    "import math\n",
    "import seaborn as sns\n"
   ]
  },
  {
   "cell_type": "code",
   "execution_count": 3,
   "metadata": {},
   "outputs": [],
   "source": [
    "#abrindo os databases\n",
    "D_HDI = pd.read_excel(\"Indicator_HDI.xlsx\")\n",
    "D_PVMNT = pd.read_excel(\"roads paved.xlsx\")\n",
    "D_URB = pd.read_excel(\"indicator EN_URB_MCTY_TL_ZS.xls.xlsx\")\n",
    "\n",
    "\n",
    "\n",
    "\n",
    "\n"
   ]
  },
  {
   "cell_type": "code",
   "execution_count": 4,
   "metadata": {},
   "outputs": [
    {
     "data": {
      "text/html": [
       "<div>\n",
       "<style scoped>\n",
       "    .dataframe tbody tr th:only-of-type {\n",
       "        vertical-align: middle;\n",
       "    }\n",
       "\n",
       "    .dataframe tbody tr th {\n",
       "        vertical-align: top;\n",
       "    }\n",
       "\n",
       "    .dataframe thead th {\n",
       "        text-align: right;\n",
       "    }\n",
       "</style>\n",
       "<table border=\"1\" class=\"dataframe\">\n",
       "  <thead>\n",
       "    <tr style=\"text-align: right;\">\n",
       "      <th></th>\n",
       "      <th>1990_URB</th>\n",
       "      <th>1990_PVMNT</th>\n",
       "      <th>1990_IDH</th>\n",
       "    </tr>\n",
       "  </thead>\n",
       "  <tbody>\n",
       "    <tr>\n",
       "      <th>Afghanistan</th>\n",
       "      <td>7.710820</td>\n",
       "      <td>NaN</td>\n",
       "      <td>0.246</td>\n",
       "    </tr>\n",
       "    <tr>\n",
       "      <th>Algeria</th>\n",
       "      <td>7.546848</td>\n",
       "      <td>67.000000</td>\n",
       "      <td>0.551</td>\n",
       "    </tr>\n",
       "    <tr>\n",
       "      <th>Angola</th>\n",
       "      <td>14.706588</td>\n",
       "      <td>NaN</td>\n",
       "      <td>NaN</td>\n",
       "    </tr>\n",
       "    <tr>\n",
       "      <th>Argentina</th>\n",
       "      <td>39.379239</td>\n",
       "      <td>28.500000</td>\n",
       "      <td>0.697</td>\n",
       "    </tr>\n",
       "    <tr>\n",
       "      <th>Armenia</th>\n",
       "      <td>33.134698</td>\n",
       "      <td>99.199997</td>\n",
       "      <td>NaN</td>\n",
       "    </tr>\n",
       "  </tbody>\n",
       "</table>\n",
       "</div>"
      ],
      "text/plain": [
       "              1990_URB  1990_PVMNT  1990_IDH\n",
       "Afghanistan   7.710820         NaN     0.246\n",
       "Algeria       7.546848   67.000000     0.551\n",
       "Angola       14.706588         NaN       NaN\n",
       "Argentina    39.379239   28.500000     0.697\n",
       "Armenia      33.134698   99.199997       NaN"
      ]
     },
     "execution_count": 4,
     "metadata": {},
     "output_type": "execute_result"
    }
   ],
   "source": [
    "#separando o ano de base\n",
    "D_HDI_B = D_HDI.loc[:,[ \"HDI\",1990]]\n",
    "D_URB_B = D_URB.loc[:,[\"Population in urban agglomerations of more than 1 million (% of total population)\",1990]]\n",
    "D_PVMNT_B = D_PVMNT.loc[:,[\"Roads, paved (% of total roads)\",\"1990\"]]\n",
    "\n",
    "#alterando os indices\n",
    "HDI_IDX = D_HDI_B.set_index(\"HDI\")\n",
    "URB_IDX = D_URB_B.set_index(\"Population in urban agglomerations of more than 1 million (% of total population)\")\n",
    "PVMNT_IDX = D_PVMNT_B.set_index(\"Roads, paved (% of total roads)\")\n",
    "\n",
    "#juntando os datasets\n",
    "FRST_JOIN = URB_IDX.join(PVMNT_IDX, how='inner',lsuffix='_URB',rsuffix='_PVMNT')\n",
    "D_JOIN = FRST_JOIN.join(HDI_IDX,how='inner',lsuffix='_URB',rsuffix='_IDH')\n",
    "D_JOIN.columns=[\"1990_URB\",\"1990_PVMNT\",\"1990_IDH\"]\n",
    "D_JOIN.to_csv(\"FINAL.csv\")\n",
    "D_JOIN.head()\n",
    "\n",
    "\n",
    "\n",
    "\n",
    "\n",
    "\n"
   ]
  },
  {
   "cell_type": "markdown",
   "metadata": {
    "scrolled": false
   },
   "source": [
    "\n",
    "# Formulação de Hipotese\n",
    "\n",
    " Para conduzir uma analise, é uma boa medida pensar em uma pergunta a ser respondida por ela. Tendo em vista o foco da analise no indice IDH, é preciso verificar a influencia de outras variaveis nesse fator. Para tal, foram escolhidas as variaveis estradas pavimentadas(% do total) e população em nucleos urbanos com mais de 1 milhão de pessoas(% do total). \n",
    "\n",
    "## Hipótese:\n",
    "       \n",
    "*A porcentagem de estradas pavimentadas e de população em areas urbanas influencia a taxa de crescimento do IDH?*\n"
   ]
  },
  {
   "cell_type": "markdown",
   "metadata": {},
   "source": [
    "# Analise Individual\n",
    "\n",
    "## Ultilizando as ferramentas boxplot e histograma para cada variavel:\n"
   ]
  },
  {
   "cell_type": "code",
   "execution_count": 5,
   "metadata": {},
   "outputs": [
    {
     "data": {
      "image/png": "[encoded data removed]",
      "text/plain": [
       "<matplotlib.figure.Figure at 0x1972f240dd8>"
      ]
     },
     "metadata": {},
     "output_type": "display_data"
    },
    {
     "data": {
      "image/png": "[encoded data removed]",
      "text/plain": [
       "<matplotlib.figure.Figure at 0x1972f2a3c18>"
      ]
     },
     "metadata": {},
     "output_type": "display_data"
    }
   ],
   "source": [
    "\n",
    "#Plotando os histogramas para o HDI\n",
    "D_JOIN[\"1990_IDH\"].plot(kind=\"hist\", density=True)\n",
    "plt.show()\n",
    "D_JOIN[\"1990_IDH\"].plot.box()\n",
    "plt.show()\n",
    "\n",
    "\n",
    "\n",
    "\n",
    "\n",
    "\n",
    "\n",
    "\n"
   ]
  },
  {
   "cell_type": "code",
   "execution_count": 6,
   "metadata": {},
   "outputs": [
    {
     "data": {
      "image/png": "[encoded data removed]",
      "text/plain": [
       "<matplotlib.figure.Figure at 0x1972f2574e0>"
      ]
     },
     "metadata": {},
     "output_type": "display_data"
    },
    {
     "data": {
      "image/png": "[encoded data removed]",
      "text/plain": [
       "<matplotlib.figure.Figure at 0x1972f6f15c0>"
      ]
     },
     "metadata": {},
     "output_type": "display_data"
    }
   ],
   "source": [
    "D_JOIN[\"1990_IDH\"].plot(kind=\"hist\", density=True)\n",
    "plt.show()\n",
    "D_JOIN[\"1990_IDH\"].plot.box()\n",
    "plt.show()"
   ]
  },
  {
   "cell_type": "code",
   "execution_count": 7,
   "metadata": {},
   "outputs": [
    {
     "data": {
      "image/png": "[encoded data removed]",
      "text/plain": [
       "<matplotlib.figure.Figure at 0x1972f79d0f0>"
      ]
     },
     "metadata": {},
     "output_type": "display_data"
    },
    {
     "data": {
      "image/png": "[encoded data removed]",
      "text/plain": [
       "<matplotlib.figure.Figure at 0x1972f80a9b0>"
      ]
     },
     "metadata": {},
     "output_type": "display_data"
    }
   ],
   "source": [
    "D_JOIN[\"1990_PVMNT\"].plot(kind=\"hist\", density=True)\n",
    "plt.show()\n",
    "D_JOIN[\"1990_PVMNT\"].plot.box()\n",
    "plt.show()"
   ]
  },
  {
   "cell_type": "code",
   "execution_count": 8,
   "metadata": {},
   "outputs": [
    {
     "data": {
      "text/html": [
       "<div>\n",
       "<style scoped>\n",
       "    .dataframe tbody tr th:only-of-type {\n",
       "        vertical-align: middle;\n",
       "    }\n",
       "\n",
       "    .dataframe tbody tr th {\n",
       "        vertical-align: top;\n",
       "    }\n",
       "\n",
       "    .dataframe thead th {\n",
       "        text-align: right;\n",
       "    }\n",
       "</style>\n",
       "<table border=\"1\" class=\"dataframe\">\n",
       "  <thead>\n",
       "    <tr style=\"text-align: right;\">\n",
       "      <th></th>\n",
       "      <th>1990_URB</th>\n",
       "      <th>1990_PVMNT</th>\n",
       "      <th>1990_IDH</th>\n",
       "    </tr>\n",
       "  </thead>\n",
       "  <tbody>\n",
       "    <tr>\n",
       "      <th>1990_URB</th>\n",
       "      <td>1.000000</td>\n",
       "      <td>0.308855</td>\n",
       "      <td>0.527800</td>\n",
       "    </tr>\n",
       "    <tr>\n",
       "      <th>1990_PVMNT</th>\n",
       "      <td>0.308855</td>\n",
       "      <td>1.000000</td>\n",
       "      <td>0.631449</td>\n",
       "    </tr>\n",
       "    <tr>\n",
       "      <th>1990_IDH</th>\n",
       "      <td>0.527800</td>\n",
       "      <td>0.631449</td>\n",
       "      <td>1.000000</td>\n",
       "    </tr>\n",
       "  </tbody>\n",
       "</table>\n",
       "</div>"
      ],
      "text/plain": [
       "            1990_URB  1990_PVMNT  1990_IDH\n",
       "1990_URB    1.000000    0.308855  0.527800\n",
       "1990_PVMNT  0.308855    1.000000  0.631449\n",
       "1990_IDH    0.527800    0.631449  1.000000"
      ]
     },
     "execution_count": 8,
     "metadata": {},
     "output_type": "execute_result"
    }
   ],
   "source": [
    "#Verificando as correlações\n",
    "D_JOIN.corr()\n",
    "\n"
   ]
  },
  {
   "cell_type": "markdown",
   "metadata": {},
   "source": [
    "# Analise conjuta"
   ]
  },
  {
   "cell_type": "code",
   "execution_count": 9,
   "metadata": {},
   "outputs": [
    {
     "data": {
      "text/html": [
       "<div>\n",
       "<style scoped>\n",
       "    .dataframe tbody tr th:only-of-type {\n",
       "        vertical-align: middle;\n",
       "    }\n",
       "\n",
       "    .dataframe tbody tr th {\n",
       "        vertical-align: top;\n",
       "    }\n",
       "\n",
       "    .dataframe thead th {\n",
       "        text-align: right;\n",
       "    }\n",
       "</style>\n",
       "<table border=\"1\" class=\"dataframe\">\n",
       "  <thead>\n",
       "    <tr style=\"text-align: right;\">\n",
       "      <th></th>\n",
       "      <th>1990_URB</th>\n",
       "      <th>1990_PVMNT</th>\n",
       "      <th>1990_IDH</th>\n",
       "    </tr>\n",
       "  </thead>\n",
       "  <tbody>\n",
       "    <tr>\n",
       "      <th>1990_URB</th>\n",
       "      <td>1.000000</td>\n",
       "      <td>0.308855</td>\n",
       "      <td>0.527800</td>\n",
       "    </tr>\n",
       "    <tr>\n",
       "      <th>1990_PVMNT</th>\n",
       "      <td>0.308855</td>\n",
       "      <td>1.000000</td>\n",
       "      <td>0.631449</td>\n",
       "    </tr>\n",
       "    <tr>\n",
       "      <th>1990_IDH</th>\n",
       "      <td>0.527800</td>\n",
       "      <td>0.631449</td>\n",
       "      <td>1.000000</td>\n",
       "    </tr>\n",
       "  </tbody>\n",
       "</table>\n",
       "</div>"
      ],
      "text/plain": [
       "            1990_URB  1990_PVMNT  1990_IDH\n",
       "1990_URB    1.000000    0.308855  0.527800\n",
       "1990_PVMNT  0.308855    1.000000  0.631449\n",
       "1990_IDH    0.527800    0.631449  1.000000"
      ]
     },
     "execution_count": 9,
     "metadata": {},
     "output_type": "execute_result"
    }
   ],
   "source": [
    "#Verificando as correlações\n",
    "D_JOIN.corr()\n"
   ]
  },
  {
   "cell_type": "code",
   "execution_count": 14,
   "metadata": {},
   "outputs": [
    {
     "data": {
      "text/plain": [
       "<matplotlib.axes._subplots.AxesSubplot at 0x1972f797e80>"
      ]
     },
     "execution_count": 14,
     "metadata": {},
     "output_type": "execute_result"
    },
    {
     "data": {
      "image/png": "[encoded data removed]",
      "text/plain": [
       "<matplotlib.figure.Figure at 0x1972fa1a240>"
      ]
     },
     "metadata": {},
     "output_type": "display_data"
    }
   ],
   "source": [
    "D_JOIN.plot.scatter(x=\"1990_IDH\", y = \"1990_URB\")"
   ]
  },
  {
   "cell_type": "code",
   "execution_count": 15,
   "metadata": {},
   "outputs": [
    {
     "data": {
      "text/plain": [
       "<matplotlib.axes._subplots.AxesSubplot at 0x1972fa7f978>"
      ]
     },
     "execution_count": 15,
     "metadata": {},
     "output_type": "execute_result"
    },
    {
     "data": {
      "image/png": "[encoded data removed]",
      "text/plain": [
       "<matplotlib.figure.Figure at 0x1972fc3c358>"
      ]
     },
     "metadata": {},
     "output_type": "display_data"
    }
   ],
   "source": [
    "D_JOIN.plot.scatter(x=\"1990_IDH\", y = \"1990_PVMNT\")"
   ]
  },
  {
   "cell_type": "code",
   "execution_count": null,
   "metadata": {},
   "outputs": [],
   "source": []
  }
 ],
 "metadata": {
  "kernelspec": {
   "display_name": "Python 3",
   "language": "python",
   "name": "python3"
  }
 },
 "nbformat": 4,
 "nbformat_minor": 2
}

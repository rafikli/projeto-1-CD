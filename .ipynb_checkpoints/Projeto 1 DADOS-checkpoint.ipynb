{
 "cells": [
  {
   "cell_type": "markdown",
   "metadata": {},
   "source": [
    "___\n",
    "# Projeto 1 de Ciencia do Dados\n",
    "___\n",
    "## Rafael Libertini"
   ]
  },
  {
   "cell_type": "markdown",
   "metadata": {},
   "source": [
    "# Introdução\n",
    " \n",
    "   Neste projeto faremos uma analise de variaves quantitativas, comparando-as com o IDH, indicador que resume a medida de desenvolvimento de um pais, ultilizando três parâmetros: saúde, educação e renda. Essa variavel foi cruzada com duas outras, analisando a correlação. O intuito do projeto foi o de treinar o uso do ferramental aprendido em sala e exercitar a analise de dados, formulando hipoteses, analises e conclusão."
   ]
  },
  {
   "cell_type": "markdown",
   "metadata": {},
   "source": [
    "## Preparando os dados:"
   ]
  },
  {
   "cell_type": "code",
   "execution_count": 2,
   "metadata": {},
   "outputs": [],
   "source": [
    "#importando os módulos necessários\n",
    "import pandas as pd\n",
    "import matplotlib.pyplot as plt\n",
    "import matplotlib\n",
    "import numpy as np\n",
    "from scipy import stats\n",
    "import seaborn as sns"
   ]
  },
  {
   "cell_type": "code",
   "execution_count": 3,
   "metadata": {},
   "outputs": [],
   "source": [
    "#abrindo os databases\n",
    "D_HDI = pd.read_excel(\"Indicator_HDI.xlsx\")\n",
    "D_PVMNT = pd.read_excel(\"roads paved.xlsx\")\n",
    "D_URB = pd.read_excel(\"indicator EN_URB_MCTY_TL_ZS.xls.xlsx\")"
   ]
  },
  {
   "cell_type": "code",
   "execution_count": 49,
   "metadata": {},
   "outputs": [
    {
     "data": {
      "text/html": [
       "<div>\n",
       "<style scoped>\n",
       "    .dataframe tbody tr th:only-of-type {\n",
       "        vertical-align: middle;\n",
       "    }\n",
       "\n",
       "    .dataframe tbody tr th {\n",
       "        vertical-align: top;\n",
       "    }\n",
       "\n",
       "    .dataframe thead th {\n",
       "        text-align: right;\n",
       "    }\n",
       "</style>\n",
       "<table border=\"1\" class=\"dataframe\">\n",
       "  <thead>\n",
       "    <tr style=\"text-align: right;\">\n",
       "      <th></th>\n",
       "      <th>1990_URB</th>\n",
       "      <th>1990_PVMNT</th>\n",
       "      <th>1990_IDH</th>\n",
       "    </tr>\n",
       "  </thead>\n",
       "  <tbody>\n",
       "    <tr>\n",
       "      <th>Algeria</th>\n",
       "      <td>7.546848</td>\n",
       "      <td>67.0</td>\n",
       "      <td>0.551</td>\n",
       "    </tr>\n",
       "    <tr>\n",
       "      <th>Argentina</th>\n",
       "      <td>39.379239</td>\n",
       "      <td>28.5</td>\n",
       "      <td>0.697</td>\n",
       "    </tr>\n",
       "    <tr>\n",
       "      <th>Australia</th>\n",
       "      <td>60.258457</td>\n",
       "      <td>35.0</td>\n",
       "      <td>0.873</td>\n",
       "    </tr>\n",
       "    <tr>\n",
       "      <th>Austria</th>\n",
       "      <td>27.184880</td>\n",
       "      <td>100.0</td>\n",
       "      <td>0.790</td>\n",
       "    </tr>\n",
       "    <tr>\n",
       "      <th>Bolivia</th>\n",
       "      <td>25.155654</td>\n",
       "      <td>4.3</td>\n",
       "      <td>0.560</td>\n",
       "    </tr>\n",
       "  </tbody>\n",
       "</table>\n",
       "</div>"
      ],
      "text/plain": [
       "            1990_URB  1990_PVMNT  1990_IDH\n",
       "Algeria     7.546848        67.0     0.551\n",
       "Argentina  39.379239        28.5     0.697\n",
       "Australia  60.258457        35.0     0.873\n",
       "Austria    27.184880       100.0     0.790\n",
       "Bolivia    25.155654         4.3     0.560"
      ]
     },
     "execution_count": 49,
     "metadata": {},
     "output_type": "execute_result"
    }
   ],
   "source": [
    "#separando o ano de base\n",
    "D_HDI_B = D_HDI.loc[:,[ \"HDI\",1990]]\n",
    "D_URB_B = D_URB.loc[:,[\"Population in urban agglomerations of more than 1 million (% of total population)\",1990]]\n",
    "D_PVMNT_B = D_PVMNT.loc[:,[\"Roads, paved (% of total roads)\",\"1990\"]]\n",
    "\n",
    "#alterando os indices\n",
    "HDI_IDX = D_HDI_B.set_index(\"HDI\")\n",
    "URB_IDX = D_URB_B.set_index(\"Population in urban agglomerations of more than 1 million (% of total population)\")\n",
    "PVMNT_IDX = D_PVMNT_B.set_index(\"Roads, paved (% of total roads)\")\n",
    "\n",
    "#juntando os datasets\n",
    "FRST_JOIN = URB_IDX.join(PVMNT_IDX, how='inner',lsuffix='_URB',rsuffix='_PVMNT')\n",
    "D_JOIN = FRST_JOIN.join(HDI_IDX,how='inner',lsuffix='_URB',rsuffix='_IDH')\n",
    "D_JOIN.columns=[\"1990_URB\",\"1990_PVMNT\",\"1990_IDH\"]\n",
    "D_JOIN.to_csv(\"FINAL.csv\")\n",
    "D_JOIN = D_JOIN.dropna()\n",
    "D_JOIN.head()"
   ]
  },
  {
   "cell_type": "markdown",
   "metadata": {
    "scrolled": false
   },
   "source": [
    "\n",
    "# Formulação de Hipotese\n",
    "\n",
    " Para conduzir uma analise, é uma boa medida pensar em uma pergunta a ser respondida por ela. Tendo em vista o foco da analise no indice IDH, é preciso verificar a influencia de outras variaveis nesse fator. Para tal, foram escolhidas as variaveis estradas pavimentadas(% do total) e população em nucleos urbanos com mais de 1 milhão de pessoas(% do total). \n",
    "\n",
    "## Hipótese:\n",
    "       \n",
    "*A porcentagem de estradas pavimentadas e de população em areas urbanas influencia o IDH?*\n",
    "___\n"
   ]
  },
  {
   "cell_type": "markdown",
   "metadata": {},
   "source": [
    "# Analise Individual\n",
    "___\n",
    "\n",
    "## Ultilizando as ferramentas boxplot e histograma para cada variavel:\n"
   ]
  },
  {
   "cell_type": "code",
   "execution_count": 37,
   "metadata": {},
   "outputs": [
    {
     "data": {
      "image/png": "[encoded data removed]",
      "text/plain": [
       "<matplotlib.figure.Figure at 0x1fe2b7a81d0>"
      ]
     },
     "metadata": {},
     "output_type": "display_data"
    },
    {
     "data": {
      "image/png": "[encoded data removed]",
      "text/plain": [
       "<matplotlib.figure.Figure at 0x1fe2b7c9438>"
      ]
     },
     "metadata": {},
     "output_type": "display_data"
    },
    {
     "data": {
      "text/plain": [
       "count    56.000000\n",
       "mean      0.596143\n",
       "std       0.178629\n",
       "min       0.200000\n",
       "25%       0.435000\n",
       "50%       0.630000\n",
       "75%       0.764500\n",
       "max       0.873000\n",
       "Name: 1990_IDH, dtype: float64"
      ]
     },
     "execution_count": 37,
     "metadata": {},
     "output_type": "execute_result"
    }
   ],
   "source": [
    "#Plotando os histogramas para o HDI\n",
    "D_JOIN[\"1990_IDH\"].plot(kind=\"hist\", density=True)\n",
    "plt.suptitle(\"Histograma IDH\")\n",
    "plt.show()\n",
    "D_JOIN[\"1990_IDH\"].plot.box()\n",
    "plt.suptitle(\"Boxplot IDH\")\n",
    "plt.show()\n",
    "D_JOIN[\"1990_IDH\"].describe()  \n"
   ]
  },
  {
   "cell_type": "markdown",
   "metadata": {},
   "source": [
    "### Análise\n",
    "A variaveL IDH tem uma cauda média para a esquerda, o que nos diz que existem mais paises com o IDH alto. A zona interquatil é grande, identificando que a maioria dos amostra encontra-se na na zona central inferior à mediana.\n",
    "____\n"
   ]
  },
  {
   "cell_type": "code",
   "execution_count": 41,
   "metadata": {},
   "outputs": [
    {
     "data": {
      "image/png": "[encoded data removed]",
      "text/plain": [
       "<matplotlib.figure.Figure at 0x1fe2bdc34e0>"
      ]
     },
     "metadata": {},
     "output_type": "display_data"
    },
    {
     "data": {
      "image/png": "[encoded data removed]",
      "text/plain": [
       "<matplotlib.figure.Figure at 0x1fe2bc63438>"
      ]
     },
     "metadata": {},
     "output_type": "display_data"
    },
    {
     "data": {
      "text/plain": [
       "count    56.000000\n",
       "mean     24.042815\n",
       "std      16.474811\n",
       "min       5.728201\n",
       "25%      13.488981\n",
       "50%      20.448501\n",
       "75%      30.228594\n",
       "max      99.516732\n",
       "Name: 1990_URB, dtype: float64"
      ]
     },
     "execution_count": 41,
     "metadata": {},
     "output_type": "execute_result"
    }
   ],
   "source": [
    "#Plotando os histogramas para o  URB\n",
    "D_JOIN[\"1990_URB\"].plot(kind=\"hist\", density=True)\n",
    "plt.suptitle(\"Histograma da população em areas urbanas (% do total)\")\n",
    "plt.show()\n",
    "D_JOIN[\"1990_URB\"].plot.box()\n",
    "plt.suptitle(\"Boxplot da população em areas urbanas (% do total)\")\n",
    "plt.show()\n",
    "D_JOIN[\"1990_URB\"].describe()"
   ]
  },
  {
   "cell_type": "markdown",
   "metadata": {},
   "source": [
    "### Análise\n",
    "   Esses dados tratam da porcentagem da população que habitam centros urbanos com mais de 1 milhão de pessoas. Podemos verificar que ha uma grande concentração de valores na casa dos 0% a 30%, indicando que a populaçao ou em areas urbanas pequenas(em casos de paises com baixa população) ou que a população ainda nao migrou para as areas urbanas, podendo ter alguma correlação com o IDH, visto que os centros urbanos podem contribuir para a melhor distribuiçao de fatores que compõe essa medida. "
   ]
  },
  {
   "cell_type": "code",
   "execution_count": 42,
   "metadata": {},
   "outputs": [
    {
     "data": {
      "image/png": "[encoded data removed]",
      "text/plain": [
       "<matplotlib.figure.Figure at 0x1fe2bbcae48>"
      ]
     },
     "metadata": {},
     "output_type": "display_data"
    },
    {
     "data": {
      "image/png": "[encoded data removed]",
      "text/plain": [
       "<matplotlib.figure.Figure at 0x1fe2be66080>"
      ]
     },
     "metadata": {},
     "output_type": "display_data"
    },
    {
     "data": {
      "text/plain": [
       "count     56.000000\n",
       "mean      46.840691\n",
       "std       34.221739\n",
       "min        4.300000\n",
       "25%       14.300000\n",
       "50%       35.049999\n",
       "75%       76.675001\n",
       "max      100.000000\n",
       "Name: 1990_PVMNT, dtype: float64"
      ]
     },
     "execution_count": 42,
     "metadata": {},
     "output_type": "execute_result"
    }
   ],
   "source": [
    "#Plotando os histogramas para o  PVMNT\n",
    "D_JOIN[\"1990_PVMNT\"].plot(kind=\"hist\", density=True)\n",
    "plt.suptitle(\"Histograma das Estradas Pavimentadas (% do total)\")\n",
    "plt.show()\n",
    "D_JOIN[\"1990_PVMNT\"].plot.box()\n",
    "plt.suptitle(\"Boxplot das Estradas Pavimentadas (% do total)\")\n",
    "plt.show()\n",
    "D_JOIN[\"1990_PVMNT\"].describe()"
   ]
  },
  {
   "cell_type": "markdown",
   "metadata": {},
   "source": [
    "### Análise: \n",
    "   Essa é uma variavel interessante,pois, existe uma anomalia; muito paises contam com 100% de estradas pavimentdas, enquanto o resto esta distrivuido ao longo das porcentagens, como pode ser evidenciado pela grande zona interquartis, observada no boxplot.\n"
   ]
  },
  {
   "cell_type": "code",
   "execution_count": 48,
   "metadata": {},
   "outputs": [
    {
     "data": {
      "text/html": [
       "<div>\n",
       "<style scoped>\n",
       "    .dataframe tbody tr th:only-of-type {\n",
       "        vertical-align: middle;\n",
       "    }\n",
       "\n",
       "    .dataframe tbody tr th {\n",
       "        vertical-align: top;\n",
       "    }\n",
       "\n",
       "    .dataframe thead th {\n",
       "        text-align: right;\n",
       "    }\n",
       "</style>\n",
       "<table border=\"1\" class=\"dataframe\">\n",
       "  <thead>\n",
       "    <tr style=\"text-align: right;\">\n",
       "      <th></th>\n",
       "      <th>1990_URB</th>\n",
       "      <th>1990_PVMNT</th>\n",
       "      <th>1990_IDH</th>\n",
       "    </tr>\n",
       "  </thead>\n",
       "  <tbody>\n",
       "    <tr>\n",
       "      <th>1990_URB</th>\n",
       "      <td>1.000000</td>\n",
       "      <td>0.225013</td>\n",
       "      <td>0.547674</td>\n",
       "    </tr>\n",
       "    <tr>\n",
       "      <th>1990_PVMNT</th>\n",
       "      <td>0.225013</td>\n",
       "      <td>1.000000</td>\n",
       "      <td>0.628346</td>\n",
       "    </tr>\n",
       "    <tr>\n",
       "      <th>1990_IDH</th>\n",
       "      <td>0.547674</td>\n",
       "      <td>0.628346</td>\n",
       "      <td>1.000000</td>\n",
       "    </tr>\n",
       "  </tbody>\n",
       "</table>\n",
       "</div>"
      ],
      "text/plain": [
       "            1990_URB  1990_PVMNT  1990_IDH\n",
       "1990_URB    1.000000    0.225013  0.547674\n",
       "1990_PVMNT  0.225013    1.000000  0.628346\n",
       "1990_IDH    0.547674    0.628346  1.000000"
      ]
     },
     "execution_count": 48,
     "metadata": {},
     "output_type": "execute_result"
    }
   ],
   "source": [
    "#Verificando as correlações\n",
    "D_JOIN.corr()\n",
    "\n"
   ]
  },
  {
   "cell_type": "markdown",
   "metadata": {},
   "source": [
    "# Analise conjuta"
   ]
  },
  {
   "cell_type": "code",
   "execution_count": 43,
   "metadata": {},
   "outputs": [
    {
     "data": {
      "image/png": "[encoded data removed]",
      "text/plain": [
       "<matplotlib.figure.Figure at 0x1fe2bbfa438>"
      ]
     },
     "metadata": {},
     "output_type": "display_data"
    }
   ],
   "source": [
    "#Validando as variaveis por meio de scatterplot\n",
    "D_JOIN.plot.scatter(x=\"1990_URB\",y=\"1990_PVMNT\")\n",
    "plt.suptitle(\"Scatterplot do PVMNT pelo URB\")\n",
    "plt.show()"
   ]
  },
  {
   "cell_type": "markdown",
   "metadata": {},
   "source": [
    "#### Analise:  \n",
    "   Ao analisar o grafico de dispersão acima, podemos verificar que as variaveis não tem relação óbvia, por conta do espalhamento dos pontos no gráfico e a baixa correlação de 0,225. Concluindo que a escolha de variaveis foi coesa com ao proposito do projeto, visto que, se a correlaçao fosse alta, estariamos \"desperdiçando uma variavel\".\n"
   ]
  },
  {
   "cell_type": "code",
   "execution_count": 31,
   "metadata": {},
   "outputs": [
    {
     "data": {
      "text/html": [
       "<div>\n",
       "<style scoped>\n",
       "    .dataframe tbody tr th:only-of-type {\n",
       "        vertical-align: middle;\n",
       "    }\n",
       "\n",
       "    .dataframe tbody tr th {\n",
       "        vertical-align: top;\n",
       "    }\n",
       "\n",
       "    .dataframe thead th {\n",
       "        text-align: right;\n",
       "    }\n",
       "</style>\n",
       "<table border=\"1\" class=\"dataframe\">\n",
       "  <thead>\n",
       "    <tr style=\"text-align: right;\">\n",
       "      <th></th>\n",
       "      <th>1990_URB</th>\n",
       "      <th>1990_PVMNT</th>\n",
       "      <th>1990_IDH</th>\n",
       "    </tr>\n",
       "  </thead>\n",
       "  <tbody>\n",
       "    <tr>\n",
       "      <th>1990_URB</th>\n",
       "      <td>1.000000</td>\n",
       "      <td>0.225013</td>\n",
       "      <td>0.547674</td>\n",
       "    </tr>\n",
       "    <tr>\n",
       "      <th>1990_PVMNT</th>\n",
       "      <td>0.225013</td>\n",
       "      <td>1.000000</td>\n",
       "      <td>0.628346</td>\n",
       "    </tr>\n",
       "    <tr>\n",
       "      <th>1990_IDH</th>\n",
       "      <td>0.547674</td>\n",
       "      <td>0.628346</td>\n",
       "      <td>1.000000</td>\n",
       "    </tr>\n",
       "  </tbody>\n",
       "</table>\n",
       "</div>"
      ],
      "text/plain": [
       "            1990_URB  1990_PVMNT  1990_IDH\n",
       "1990_URB    1.000000    0.225013  0.547674\n",
       "1990_PVMNT  0.225013    1.000000  0.628346\n",
       "1990_IDH    0.547674    0.628346  1.000000"
      ]
     },
     "execution_count": 31,
     "metadata": {},
     "output_type": "execute_result"
    }
   ],
   "source": [
    "#Verificando as correlações\n",
    "D_JOIN.corr()\n"
   ]
  },
  {
   "cell_type": "code",
   "execution_count": 46,
   "metadata": {
    "scrolled": true
   },
   "outputs": [
    {
     "data": {
      "text/plain": [
       "[]"
      ]
     },
     "execution_count": 46,
     "metadata": {},
     "output_type": "execute_result"
    },
    {
     "data": {
      "image/png": "[encoded data removed]",
      "text/plain": [
       "<matplotlib.figure.Figure at 0x1fe2ba405f8>"
      ]
     },
     "metadata": {},
     "output_type": "display_data"
    }
   ],
   "source": [
    "#plotando o scatter plot do IDH pela URB com a linha de tendencia\n",
    "sns.regplot(D_JOIN[\"1990_IDH\"],D_JOIN[\"1990_URB\"])\n",
    "plt.suptitle(\"Scatterplot do URB pelo IDH\")\n",
    "plt.plot()\n"
   ]
  },
  {
   "cell_type": "markdown",
   "metadata": {},
   "source": [
    "### Análise\n",
    "   Plotando um grafico de dispersão da população em nucleos urbanos pelo IDH e traçando uma linha de tendencia, podemos identificar um certo padrão. Existem varios pontos que aderem à reta, indicando que, conforme sobe o IDH, aumentam o numero de pessoas em centros urbanos; o que nos leva a pensar que exista uma grande correlação, o que não é o caso, pois a correlação = 0.547. Essa baixa correlação pode ser explicada pelo fato de termos alguns paises com IDH muito alto e com grande porcentagem de população em areas urbanas, o que ptejudicou o valor da correlação.\n",
    "\n"
   ]
  },
  {
   "cell_type": "code",
   "execution_count": 47,
   "metadata": {},
   "outputs": [
    {
     "data": {
      "text/plain": [
       "[]"
      ]
     },
     "execution_count": 47,
     "metadata": {},
     "output_type": "execute_result"
    },
    {
     "data": {
      "image/png": "[encoded data removed]",
      "text/plain": [
       "<matplotlib.figure.Figure at 0x1fe2bba92e8>"
      ]
     },
     "metadata": {},
     "output_type": "display_data"
    }
   ],
   "source": [
    "#plotando o scatter plot do IDH pela PVMNT com a linha de tendencia\n",
    "sns.regplot(D_JOIN[\"1990_IDH\"],D_JOIN[\"1990_PVMNT\"])\n",
    "plt.suptitle(\"Scatterplot do PVMNT pelo IDH\")\n",
    "plt.plot()"
   ]
  },
  {
   "cell_type": "markdown",
   "metadata": {},
   "source": [
    "### Análise:\n",
    "   O grafico scatterplot da porcentagem de estradas pavimentadas pelo IDH conta com pontos mais dispersos. A linha de tendencia não descreve os dados com clareza, pois os estes tem uma baixa aderencia à ela. Existem alguns paises que contam com 100% de estradas pavimentadas, e esses estão tambem entre os maiores no IDH, mas nao temos evidencia suficiente para dizer que a quantidade de ruas paviementas dita o IDH."
   ]
  },
  {
   "cell_type": "markdown",
   "metadata": {},
   "source": [
    "___\n",
    "# Conclusão:\n"
   ]
  },
  {
   "cell_type": "markdown",
   "metadata": {},
   "source": [
    "Os graficos e análises, individuais e coletivas, conseguem nos dar uma visão mais abrangente para responder a hipotese proposta. \n",
    "\n",
    "Para responder a pergunta, temos que olhar para as variaveis separadamente. Em primeiro lugar, temos a porcentagem de pessoas em centros urbanos, que nos apontou uma boa correlação, mas nao podemos, sem olhar o contexto todo, confirmar nenhuma relação de causalidade, pois não sabemos se o IDH sobe por conta dessa variavel ou o contrario ou ainda os dois se influenciam. Podemos dizer, porem, que existe alguma relação entre os dois. Ja em segundo lugar, temos a porcentagem de estradas paviementadas, indice que nos apresentou maior aleartoriedade, portanto nao nos deixou margem para conluirmos alguma relação. \n",
    "\n",
    "Por fim podemos dizer que a quantidade de estradas pavimentadas nao tem grande influência no IDH, porem, paises com IDH muito alto tem 100% das estradas paviementadas; e tambem, que a quantidade de pessoas em areas urbanas tem grande possibilidade de influenciar o IDH, seja este aumentado por aquela, ou vice versa."
   ]
  },
  {
   "cell_type": "code",
   "execution_count": null,
   "metadata": {},
   "outputs": [],
   "source": []
  }
 ],
 "metadata": {
  "kernelspec": {
   "display_name": "Python 3",
   "language": "python",
   "name": "python3"
  }
 },
 "nbformat": 4,
 "nbformat_minor": 2
}
